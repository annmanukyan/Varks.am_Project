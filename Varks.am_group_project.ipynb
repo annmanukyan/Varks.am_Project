{
 "cells": [
  {
   "cell_type": "code",
   "execution_count": 1,
   "metadata": {},
   "outputs": [
    {
     "name": "stderr",
     "output_type": "stream",
     "text": [
      "C:\\Users\\Anna\\Anaconda2\\lib\\site-packages\\sklearn\\cross_validation.py:44: DeprecationWarning: This module was deprecated in version 0.18 in favor of the model_selection module into which all the refactored classes and functions are moved. Also note that the interface of the new CV iterators are different from that of this module. This module will be removed in 0.20.\n",
      "  \"This module will be removed in 0.20.\", DeprecationWarning)\n"
     ]
    }
   ],
   "source": [
    "# import libraries\n",
    "import pandas as pd\n",
    "import matplotlib.pyplot as plt\n",
    "import seaborn as sns\n",
    "from sklearn.cross_validation import train_test_split"
   ]
  },
  {
   "cell_type": "code",
   "execution_count": 2,
   "metadata": {
    "scrolled": false
   },
   "outputs": [
    {
     "data": {
      "text/html": [
       "<div>\n",
       "<style>\n",
       "    .dataframe thead tr:only-child th {\n",
       "        text-align: right;\n",
       "    }\n",
       "\n",
       "    .dataframe thead th {\n",
       "        text-align: left;\n",
       "    }\n",
       "\n",
       "    .dataframe tbody tr th {\n",
       "        vertical-align: top;\n",
       "    }\n",
       "</style>\n",
       "<table border=\"1\" class=\"dataframe\">\n",
       "  <thead>\n",
       "    <tr style=\"text-align: right;\">\n",
       "      <th></th>\n",
       "      <th>Satisfaction</th>\n",
       "      <th>Relationship</th>\n",
       "      <th>Communication</th>\n",
       "      <th>Resolved conflics</th>\n",
       "      <th>Favoritism</th>\n",
       "      <th>Fair shared info</th>\n",
       "      <th>Matching skills</th>\n",
       "      <th>New job</th>\n",
       "      <th>Good treatment</th>\n",
       "      <th>Excellent customer service.</th>\n",
       "      <th>Salary</th>\n",
       "      <th>Work-life balance</th>\n",
       "    </tr>\n",
       "  </thead>\n",
       "  <tbody>\n",
       "    <tr>\n",
       "      <th>0</th>\n",
       "      <td>1</td>\n",
       "      <td>2</td>\n",
       "      <td>3</td>\n",
       "      <td>2</td>\n",
       "      <td>2</td>\n",
       "      <td>3</td>\n",
       "      <td>2</td>\n",
       "      <td>0</td>\n",
       "      <td>3</td>\n",
       "      <td>3</td>\n",
       "      <td>3</td>\n",
       "      <td>2</td>\n",
       "    </tr>\n",
       "    <tr>\n",
       "      <th>1</th>\n",
       "      <td>0</td>\n",
       "      <td>2</td>\n",
       "      <td>2</td>\n",
       "      <td>1</td>\n",
       "      <td>1</td>\n",
       "      <td>0</td>\n",
       "      <td>2</td>\n",
       "      <td>2</td>\n",
       "      <td>0</td>\n",
       "      <td>0</td>\n",
       "      <td>1</td>\n",
       "      <td>1</td>\n",
       "    </tr>\n",
       "    <tr>\n",
       "      <th>2</th>\n",
       "      <td>1</td>\n",
       "      <td>3</td>\n",
       "      <td>3</td>\n",
       "      <td>2</td>\n",
       "      <td>2</td>\n",
       "      <td>2</td>\n",
       "      <td>2</td>\n",
       "      <td>0</td>\n",
       "      <td>2</td>\n",
       "      <td>3</td>\n",
       "      <td>2</td>\n",
       "      <td>2</td>\n",
       "    </tr>\n",
       "    <tr>\n",
       "      <th>3</th>\n",
       "      <td>0</td>\n",
       "      <td>2</td>\n",
       "      <td>2</td>\n",
       "      <td>2</td>\n",
       "      <td>2</td>\n",
       "      <td>2</td>\n",
       "      <td>1</td>\n",
       "      <td>1</td>\n",
       "      <td>2</td>\n",
       "      <td>2</td>\n",
       "      <td>1</td>\n",
       "      <td>2</td>\n",
       "    </tr>\n",
       "    <tr>\n",
       "      <th>4</th>\n",
       "      <td>0</td>\n",
       "      <td>3</td>\n",
       "      <td>3</td>\n",
       "      <td>3</td>\n",
       "      <td>1</td>\n",
       "      <td>2</td>\n",
       "      <td>1</td>\n",
       "      <td>2</td>\n",
       "      <td>1</td>\n",
       "      <td>0</td>\n",
       "      <td>2</td>\n",
       "      <td>1</td>\n",
       "    </tr>\n",
       "  </tbody>\n",
       "</table>\n",
       "</div>"
      ],
      "text/plain": [
       "   Satisfaction   Relationship  Communication  Resolved conflics  Favoritism  \\\n",
       "0             1              2              3                  2           2   \n",
       "1             0              2              2                  1           1   \n",
       "2             1              3              3                  2           2   \n",
       "3             0              2              2                  2           2   \n",
       "4             0              3              3                  3           1   \n",
       "\n",
       "   Fair shared info  Matching skills  New job  Good treatment  \\\n",
       "0                 3                2        0               3   \n",
       "1                 0                2        2               0   \n",
       "2                 2                2        0               2   \n",
       "3                 2                1        1               2   \n",
       "4                 2                1        2               1   \n",
       "\n",
       "   Excellent customer service.  Salary  Work-life balance  \n",
       "0                            3       3                  2  \n",
       "1                            0       1                  1  \n",
       "2                            3       2                  2  \n",
       "3                            2       1                  2  \n",
       "4                            0       2                  1  "
      ]
     },
     "execution_count": 2,
     "metadata": {},
     "output_type": "execute_result"
    }
   ],
   "source": [
    "# reading the data\n",
    "data = pd.read_excel(\"Varks.am.xlsx\")\n",
    "data.head()"
   ]
  },
  {
   "cell_type": "code",
   "execution_count": 3,
   "metadata": {},
   "outputs": [
    {
     "data": {
      "text/html": [
       "<div>\n",
       "<style>\n",
       "    .dataframe thead tr:only-child th {\n",
       "        text-align: right;\n",
       "    }\n",
       "\n",
       "    .dataframe thead th {\n",
       "        text-align: left;\n",
       "    }\n",
       "\n",
       "    .dataframe tbody tr th {\n",
       "        vertical-align: top;\n",
       "    }\n",
       "</style>\n",
       "<table border=\"1\" class=\"dataframe\">\n",
       "  <thead>\n",
       "    <tr style=\"text-align: right;\">\n",
       "      <th></th>\n",
       "      <th>Satisfaction</th>\n",
       "      <th>Relationship</th>\n",
       "      <th>Communication</th>\n",
       "      <th>Resolved conflics</th>\n",
       "      <th>Favoritism</th>\n",
       "      <th>Fair shared info</th>\n",
       "      <th>Matching skills</th>\n",
       "      <th>New job</th>\n",
       "      <th>Good treatment</th>\n",
       "      <th>Excellent customer service.</th>\n",
       "      <th>Salary</th>\n",
       "      <th>Work-life balance</th>\n",
       "    </tr>\n",
       "  </thead>\n",
       "  <tbody>\n",
       "    <tr>\n",
       "      <th>Satisfaction</th>\n",
       "      <td>1.000000</td>\n",
       "      <td>0.224286</td>\n",
       "      <td>0.211335</td>\n",
       "      <td>0.361592</td>\n",
       "      <td>0.061749</td>\n",
       "      <td>0.336457</td>\n",
       "      <td>0.249095</td>\n",
       "      <td>-0.417001</td>\n",
       "      <td>0.623698</td>\n",
       "      <td>0.519598</td>\n",
       "      <td>0.457713</td>\n",
       "      <td>0.273622</td>\n",
       "    </tr>\n",
       "    <tr>\n",
       "      <th>Relationship</th>\n",
       "      <td>0.224286</td>\n",
       "      <td>1.000000</td>\n",
       "      <td>0.484166</td>\n",
       "      <td>0.468112</td>\n",
       "      <td>0.116211</td>\n",
       "      <td>0.392945</td>\n",
       "      <td>0.205206</td>\n",
       "      <td>-0.120866</td>\n",
       "      <td>0.254045</td>\n",
       "      <td>0.268995</td>\n",
       "      <td>0.198111</td>\n",
       "      <td>0.038224</td>\n",
       "    </tr>\n",
       "    <tr>\n",
       "      <th>Communication</th>\n",
       "      <td>0.211335</td>\n",
       "      <td>0.484166</td>\n",
       "      <td>1.000000</td>\n",
       "      <td>0.506502</td>\n",
       "      <td>0.266859</td>\n",
       "      <td>0.554950</td>\n",
       "      <td>0.081827</td>\n",
       "      <td>-0.186881</td>\n",
       "      <td>0.302881</td>\n",
       "      <td>0.337565</td>\n",
       "      <td>0.210829</td>\n",
       "      <td>0.214324</td>\n",
       "    </tr>\n",
       "    <tr>\n",
       "      <th>Resolved conflics</th>\n",
       "      <td>0.361592</td>\n",
       "      <td>0.468112</td>\n",
       "      <td>0.506502</td>\n",
       "      <td>1.000000</td>\n",
       "      <td>0.181216</td>\n",
       "      <td>0.469000</td>\n",
       "      <td>-0.031331</td>\n",
       "      <td>-0.187256</td>\n",
       "      <td>0.502855</td>\n",
       "      <td>0.451065</td>\n",
       "      <td>0.361768</td>\n",
       "      <td>0.295683</td>\n",
       "    </tr>\n",
       "    <tr>\n",
       "      <th>Favoritism</th>\n",
       "      <td>0.061749</td>\n",
       "      <td>0.116211</td>\n",
       "      <td>0.266859</td>\n",
       "      <td>0.181216</td>\n",
       "      <td>1.000000</td>\n",
       "      <td>0.326646</td>\n",
       "      <td>0.127773</td>\n",
       "      <td>-0.032742</td>\n",
       "      <td>0.156580</td>\n",
       "      <td>0.184600</td>\n",
       "      <td>0.079616</td>\n",
       "      <td>0.281739</td>\n",
       "    </tr>\n",
       "    <tr>\n",
       "      <th>Fair shared info</th>\n",
       "      <td>0.336457</td>\n",
       "      <td>0.392945</td>\n",
       "      <td>0.554950</td>\n",
       "      <td>0.469000</td>\n",
       "      <td>0.326646</td>\n",
       "      <td>1.000000</td>\n",
       "      <td>0.175430</td>\n",
       "      <td>-0.230965</td>\n",
       "      <td>0.409169</td>\n",
       "      <td>0.555149</td>\n",
       "      <td>0.261639</td>\n",
       "      <td>0.149776</td>\n",
       "    </tr>\n",
       "    <tr>\n",
       "      <th>Matching skills</th>\n",
       "      <td>0.249095</td>\n",
       "      <td>0.205206</td>\n",
       "      <td>0.081827</td>\n",
       "      <td>-0.031331</td>\n",
       "      <td>0.127773</td>\n",
       "      <td>0.175430</td>\n",
       "      <td>1.000000</td>\n",
       "      <td>-0.152352</td>\n",
       "      <td>0.189035</td>\n",
       "      <td>0.086101</td>\n",
       "      <td>0.087251</td>\n",
       "      <td>0.085644</td>\n",
       "    </tr>\n",
       "    <tr>\n",
       "      <th>New job</th>\n",
       "      <td>-0.417001</td>\n",
       "      <td>-0.120866</td>\n",
       "      <td>-0.186881</td>\n",
       "      <td>-0.187256</td>\n",
       "      <td>-0.032742</td>\n",
       "      <td>-0.230965</td>\n",
       "      <td>-0.152352</td>\n",
       "      <td>1.000000</td>\n",
       "      <td>-0.459411</td>\n",
       "      <td>-0.409054</td>\n",
       "      <td>-0.285106</td>\n",
       "      <td>-0.295790</td>\n",
       "    </tr>\n",
       "    <tr>\n",
       "      <th>Good treatment</th>\n",
       "      <td>0.623698</td>\n",
       "      <td>0.254045</td>\n",
       "      <td>0.302881</td>\n",
       "      <td>0.502855</td>\n",
       "      <td>0.156580</td>\n",
       "      <td>0.409169</td>\n",
       "      <td>0.189035</td>\n",
       "      <td>-0.459411</td>\n",
       "      <td>1.000000</td>\n",
       "      <td>0.564011</td>\n",
       "      <td>0.467364</td>\n",
       "      <td>0.257987</td>\n",
       "    </tr>\n",
       "    <tr>\n",
       "      <th>Excellent customer service.</th>\n",
       "      <td>0.519598</td>\n",
       "      <td>0.268995</td>\n",
       "      <td>0.337565</td>\n",
       "      <td>0.451065</td>\n",
       "      <td>0.184600</td>\n",
       "      <td>0.555149</td>\n",
       "      <td>0.086101</td>\n",
       "      <td>-0.409054</td>\n",
       "      <td>0.564011</td>\n",
       "      <td>1.000000</td>\n",
       "      <td>0.410160</td>\n",
       "      <td>0.287238</td>\n",
       "    </tr>\n",
       "    <tr>\n",
       "      <th>Salary</th>\n",
       "      <td>0.457713</td>\n",
       "      <td>0.198111</td>\n",
       "      <td>0.210829</td>\n",
       "      <td>0.361768</td>\n",
       "      <td>0.079616</td>\n",
       "      <td>0.261639</td>\n",
       "      <td>0.087251</td>\n",
       "      <td>-0.285106</td>\n",
       "      <td>0.467364</td>\n",
       "      <td>0.410160</td>\n",
       "      <td>1.000000</td>\n",
       "      <td>0.287100</td>\n",
       "    </tr>\n",
       "    <tr>\n",
       "      <th>Work-life balance</th>\n",
       "      <td>0.273622</td>\n",
       "      <td>0.038224</td>\n",
       "      <td>0.214324</td>\n",
       "      <td>0.295683</td>\n",
       "      <td>0.281739</td>\n",
       "      <td>0.149776</td>\n",
       "      <td>0.085644</td>\n",
       "      <td>-0.295790</td>\n",
       "      <td>0.257987</td>\n",
       "      <td>0.287238</td>\n",
       "      <td>0.287100</td>\n",
       "      <td>1.000000</td>\n",
       "    </tr>\n",
       "  </tbody>\n",
       "</table>\n",
       "</div>"
      ],
      "text/plain": [
       "                             Satisfaction   Relationship  Communication  \\\n",
       "Satisfaction                     1.000000       0.224286       0.211335   \n",
       " Relationship                    0.224286       1.000000       0.484166   \n",
       "Communication                    0.211335       0.484166       1.000000   \n",
       "Resolved conflics                0.361592       0.468112       0.506502   \n",
       "Favoritism                       0.061749       0.116211       0.266859   \n",
       "Fair shared info                 0.336457       0.392945       0.554950   \n",
       "Matching skills                  0.249095       0.205206       0.081827   \n",
       "New job                         -0.417001      -0.120866      -0.186881   \n",
       "Good treatment                   0.623698       0.254045       0.302881   \n",
       "Excellent customer service.      0.519598       0.268995       0.337565   \n",
       "Salary                           0.457713       0.198111       0.210829   \n",
       "Work-life balance                0.273622       0.038224       0.214324   \n",
       "\n",
       "                             Resolved conflics  Favoritism  Fair shared info  \\\n",
       "Satisfaction                          0.361592    0.061749          0.336457   \n",
       " Relationship                         0.468112    0.116211          0.392945   \n",
       "Communication                         0.506502    0.266859          0.554950   \n",
       "Resolved conflics                     1.000000    0.181216          0.469000   \n",
       "Favoritism                            0.181216    1.000000          0.326646   \n",
       "Fair shared info                      0.469000    0.326646          1.000000   \n",
       "Matching skills                      -0.031331    0.127773          0.175430   \n",
       "New job                              -0.187256   -0.032742         -0.230965   \n",
       "Good treatment                        0.502855    0.156580          0.409169   \n",
       "Excellent customer service.           0.451065    0.184600          0.555149   \n",
       "Salary                                0.361768    0.079616          0.261639   \n",
       "Work-life balance                     0.295683    0.281739          0.149776   \n",
       "\n",
       "                             Matching skills   New job  Good treatment  \\\n",
       "Satisfaction                        0.249095 -0.417001        0.623698   \n",
       " Relationship                       0.205206 -0.120866        0.254045   \n",
       "Communication                       0.081827 -0.186881        0.302881   \n",
       "Resolved conflics                  -0.031331 -0.187256        0.502855   \n",
       "Favoritism                          0.127773 -0.032742        0.156580   \n",
       "Fair shared info                    0.175430 -0.230965        0.409169   \n",
       "Matching skills                     1.000000 -0.152352        0.189035   \n",
       "New job                            -0.152352  1.000000       -0.459411   \n",
       "Good treatment                      0.189035 -0.459411        1.000000   \n",
       "Excellent customer service.         0.086101 -0.409054        0.564011   \n",
       "Salary                              0.087251 -0.285106        0.467364   \n",
       "Work-life balance                   0.085644 -0.295790        0.257987   \n",
       "\n",
       "                             Excellent customer service.    Salary  \\\n",
       "Satisfaction                                    0.519598  0.457713   \n",
       " Relationship                                   0.268995  0.198111   \n",
       "Communication                                   0.337565  0.210829   \n",
       "Resolved conflics                               0.451065  0.361768   \n",
       "Favoritism                                      0.184600  0.079616   \n",
       "Fair shared info                                0.555149  0.261639   \n",
       "Matching skills                                 0.086101  0.087251   \n",
       "New job                                        -0.409054 -0.285106   \n",
       "Good treatment                                  0.564011  0.467364   \n",
       "Excellent customer service.                     1.000000  0.410160   \n",
       "Salary                                          0.410160  1.000000   \n",
       "Work-life balance                               0.287238  0.287100   \n",
       "\n",
       "                             Work-life balance  \n",
       "Satisfaction                          0.273622  \n",
       " Relationship                         0.038224  \n",
       "Communication                         0.214324  \n",
       "Resolved conflics                     0.295683  \n",
       "Favoritism                            0.281739  \n",
       "Fair shared info                      0.149776  \n",
       "Matching skills                       0.085644  \n",
       "New job                              -0.295790  \n",
       "Good treatment                        0.257987  \n",
       "Excellent customer service.           0.287238  \n",
       "Salary                                0.287100  \n",
       "Work-life balance                     1.000000  "
      ]
     },
     "execution_count": 3,
     "metadata": {},
     "output_type": "execute_result"
    }
   ],
   "source": [
    "# creating correlation matrix\n",
    "data.corr()"
   ]
  },
  {
   "cell_type": "code",
   "execution_count": 4,
   "metadata": {},
   "outputs": [
    {
     "data": {
      "image/png": "[encoded data removed]",
      "text/plain": [
       "<matplotlib.figure.Figure at 0xc799a90>"
      ]
     },
     "metadata": {},
     "output_type": "display_data"
    }
   ],
   "source": [
    "# plotting the correlation matrix\n",
    "sns.heatmap(data.corr())\n",
    "plt.show()"
   ]
  },
  {
   "cell_type": "code",
   "execution_count": 5,
   "metadata": {},
   "outputs": [
    {
     "name": "stdout",
     "output_type": "stream",
     "text": [
      "<class 'pandas.core.frame.DataFrame'>\n",
      "RangeIndex: 120 entries, 0 to 119\n",
      "Data columns (total 12 columns):\n",
      "Satisfaction                   120 non-null int64\n",
      " Relationship                  120 non-null int64\n",
      "Communication                  120 non-null int64\n",
      "Resolved conflics              120 non-null int64\n",
      "Favoritism                     120 non-null int64\n",
      "Fair shared info               120 non-null int64\n",
      "Matching skills                120 non-null int64\n",
      "New job                        120 non-null int64\n",
      "Good treatment                 120 non-null int64\n",
      "Excellent customer service.    120 non-null int64\n",
      "Salary                         120 non-null int64\n",
      "Work-life balance              120 non-null int64\n",
      "dtypes: int64(12)\n",
      "memory usage: 11.3 KB\n"
     ]
    }
   ],
   "source": [
    "# checking the missing values\n",
    "data.info()"
   ]
  },
  {
   "cell_type": "code",
   "execution_count": 6,
   "metadata": {},
   "outputs": [
    {
     "data": {
      "text/html": [
       "<div>\n",
       "<style>\n",
       "    .dataframe thead tr:only-child th {\n",
       "        text-align: right;\n",
       "    }\n",
       "\n",
       "    .dataframe thead th {\n",
       "        text-align: left;\n",
       "    }\n",
       "\n",
       "    .dataframe tbody tr th {\n",
       "        vertical-align: top;\n",
       "    }\n",
       "</style>\n",
       "<table border=\"1\" class=\"dataframe\">\n",
       "  <thead>\n",
       "    <tr style=\"text-align: right;\">\n",
       "      <th></th>\n",
       "      <th>Satisfaction</th>\n",
       "      <th>Relationship</th>\n",
       "      <th>Communication</th>\n",
       "      <th>Resolved conflics</th>\n",
       "      <th>Favoritism</th>\n",
       "      <th>Fair shared info</th>\n",
       "      <th>Matching skills</th>\n",
       "      <th>New job</th>\n",
       "      <th>Good treatment</th>\n",
       "      <th>Excellent customer service.</th>\n",
       "      <th>Salary</th>\n",
       "      <th>Work-life balance</th>\n",
       "    </tr>\n",
       "  </thead>\n",
       "  <tbody>\n",
       "    <tr>\n",
       "      <th>count</th>\n",
       "      <td>120.000000</td>\n",
       "      <td>120.000000</td>\n",
       "      <td>120.000000</td>\n",
       "      <td>120.000000</td>\n",
       "      <td>120.000000</td>\n",
       "      <td>120.000000</td>\n",
       "      <td>120.000000</td>\n",
       "      <td>120.000000</td>\n",
       "      <td>120.000000</td>\n",
       "      <td>120.000000</td>\n",
       "      <td>120.000000</td>\n",
       "      <td>120.000000</td>\n",
       "    </tr>\n",
       "    <tr>\n",
       "      <th>mean</th>\n",
       "      <td>0.891667</td>\n",
       "      <td>2.525000</td>\n",
       "      <td>2.433333</td>\n",
       "      <td>2.125000</td>\n",
       "      <td>1.825000</td>\n",
       "      <td>2.208333</td>\n",
       "      <td>2.191667</td>\n",
       "      <td>0.941667</td>\n",
       "      <td>1.991667</td>\n",
       "      <td>2.100000</td>\n",
       "      <td>1.975000</td>\n",
       "      <td>1.750000</td>\n",
       "    </tr>\n",
       "    <tr>\n",
       "      <th>std</th>\n",
       "      <td>0.312104</td>\n",
       "      <td>0.579227</td>\n",
       "      <td>0.590304</td>\n",
       "      <td>0.716698</td>\n",
       "      <td>0.752168</td>\n",
       "      <td>0.696882</td>\n",
       "      <td>0.701689</td>\n",
       "      <td>0.759210</td>\n",
       "      <td>0.772379</td>\n",
       "      <td>0.792825</td>\n",
       "      <td>0.627955</td>\n",
       "      <td>0.664211</td>\n",
       "    </tr>\n",
       "    <tr>\n",
       "      <th>min</th>\n",
       "      <td>0.000000</td>\n",
       "      <td>0.000000</td>\n",
       "      <td>0.000000</td>\n",
       "      <td>0.000000</td>\n",
       "      <td>0.000000</td>\n",
       "      <td>0.000000</td>\n",
       "      <td>0.000000</td>\n",
       "      <td>0.000000</td>\n",
       "      <td>0.000000</td>\n",
       "      <td>0.000000</td>\n",
       "      <td>0.000000</td>\n",
       "      <td>0.000000</td>\n",
       "    </tr>\n",
       "    <tr>\n",
       "      <th>25%</th>\n",
       "      <td>1.000000</td>\n",
       "      <td>2.000000</td>\n",
       "      <td>2.000000</td>\n",
       "      <td>2.000000</td>\n",
       "      <td>1.000000</td>\n",
       "      <td>2.000000</td>\n",
       "      <td>2.000000</td>\n",
       "      <td>0.000000</td>\n",
       "      <td>2.000000</td>\n",
       "      <td>2.000000</td>\n",
       "      <td>2.000000</td>\n",
       "      <td>1.000000</td>\n",
       "    </tr>\n",
       "    <tr>\n",
       "      <th>50%</th>\n",
       "      <td>1.000000</td>\n",
       "      <td>3.000000</td>\n",
       "      <td>2.000000</td>\n",
       "      <td>2.000000</td>\n",
       "      <td>2.000000</td>\n",
       "      <td>2.000000</td>\n",
       "      <td>2.000000</td>\n",
       "      <td>1.000000</td>\n",
       "      <td>2.000000</td>\n",
       "      <td>2.000000</td>\n",
       "      <td>2.000000</td>\n",
       "      <td>2.000000</td>\n",
       "    </tr>\n",
       "    <tr>\n",
       "      <th>75%</th>\n",
       "      <td>1.000000</td>\n",
       "      <td>3.000000</td>\n",
       "      <td>3.000000</td>\n",
       "      <td>3.000000</td>\n",
       "      <td>2.000000</td>\n",
       "      <td>3.000000</td>\n",
       "      <td>3.000000</td>\n",
       "      <td>1.000000</td>\n",
       "      <td>2.000000</td>\n",
       "      <td>3.000000</td>\n",
       "      <td>2.000000</td>\n",
       "      <td>2.000000</td>\n",
       "    </tr>\n",
       "    <tr>\n",
       "      <th>max</th>\n",
       "      <td>1.000000</td>\n",
       "      <td>3.000000</td>\n",
       "      <td>3.000000</td>\n",
       "      <td>3.000000</td>\n",
       "      <td>3.000000</td>\n",
       "      <td>3.000000</td>\n",
       "      <td>3.000000</td>\n",
       "      <td>3.000000</td>\n",
       "      <td>3.000000</td>\n",
       "      <td>3.000000</td>\n",
       "      <td>3.000000</td>\n",
       "      <td>3.000000</td>\n",
       "    </tr>\n",
       "  </tbody>\n",
       "</table>\n",
       "</div>"
      ],
      "text/plain": [
       "       Satisfaction   Relationship  Communication  Resolved conflics  \\\n",
       "count    120.000000     120.000000     120.000000         120.000000   \n",
       "mean       0.891667       2.525000       2.433333           2.125000   \n",
       "std        0.312104       0.579227       0.590304           0.716698   \n",
       "min        0.000000       0.000000       0.000000           0.000000   \n",
       "25%        1.000000       2.000000       2.000000           2.000000   \n",
       "50%        1.000000       3.000000       2.000000           2.000000   \n",
       "75%        1.000000       3.000000       3.000000           3.000000   \n",
       "max        1.000000       3.000000       3.000000           3.000000   \n",
       "\n",
       "       Favoritism  Fair shared info  Matching skills     New job  \\\n",
       "count  120.000000        120.000000       120.000000  120.000000   \n",
       "mean     1.825000          2.208333         2.191667    0.941667   \n",
       "std      0.752168          0.696882         0.701689    0.759210   \n",
       "min      0.000000          0.000000         0.000000    0.000000   \n",
       "25%      1.000000          2.000000         2.000000    0.000000   \n",
       "50%      2.000000          2.000000         2.000000    1.000000   \n",
       "75%      2.000000          3.000000         3.000000    1.000000   \n",
       "max      3.000000          3.000000         3.000000    3.000000   \n",
       "\n",
       "       Good treatment  Excellent customer service.      Salary  \\\n",
       "count      120.000000                   120.000000  120.000000   \n",
       "mean         1.991667                     2.100000    1.975000   \n",
       "std          0.772379                     0.792825    0.627955   \n",
       "min          0.000000                     0.000000    0.000000   \n",
       "25%          2.000000                     2.000000    2.000000   \n",
       "50%          2.000000                     2.000000    2.000000   \n",
       "75%          2.000000                     3.000000    2.000000   \n",
       "max          3.000000                     3.000000    3.000000   \n",
       "\n",
       "       Work-life balance  \n",
       "count         120.000000  \n",
       "mean            1.750000  \n",
       "std             0.664211  \n",
       "min             0.000000  \n",
       "25%             1.000000  \n",
       "50%             2.000000  \n",
       "75%             2.000000  \n",
       "max             3.000000  "
      ]
     },
     "execution_count": 6,
     "metadata": {},
     "output_type": "execute_result"
    }
   ],
   "source": [
    "# descriptive analytics\n",
    "data.describe()"
   ]
  },
  {
   "cell_type": "code",
   "execution_count": 7,
   "metadata": {},
   "outputs": [
    {
     "data": {
      "text/plain": [
       "1    89.166667\n",
       "0    10.833333\n",
       "Name: Satisfaction, dtype: float64"
      ]
     },
     "execution_count": 7,
     "metadata": {},
     "output_type": "execute_result"
    }
   ],
   "source": [
    "data[\"Satisfaction\"].value_counts()/len(data)*100"
   ]
  },
  {
   "cell_type": "code",
   "execution_count": 9,
   "metadata": {
    "collapsed": true
   },
   "outputs": [],
   "source": [
    "#importing the model\n",
    "from sklearn.tree import DecisionTreeClassifier"
   ]
  },
  {
   "cell_type": "code",
   "execution_count": 11,
   "metadata": {
    "collapsed": true
   },
   "outputs": [],
   "source": [
    "# initializing the model\n",
    "model = DecisionTreeClassifier(random_state=42)"
   ]
  },
  {
   "cell_type": "code",
   "execution_count": 12,
   "metadata": {
    "collapsed": true
   },
   "outputs": [],
   "source": [
    "# setting the inputs and output\n",
    "inputs = data.iloc[:,1:]\n",
    "output = data[\"Satisfaction\"]"
   ]
  },
  {
   "cell_type": "code",
   "execution_count": 13,
   "metadata": {},
   "outputs": [
    {
     "data": {
      "text/plain": [
       "DecisionTreeClassifier(class_weight=None, criterion='gini', max_depth=None,\n",
       "            max_features=None, max_leaf_nodes=None,\n",
       "            min_impurity_split=1e-07, min_samples_leaf=1,\n",
       "            min_samples_split=2, min_weight_fraction_leaf=0.0,\n",
       "            presort=False, random_state=42, splitter='best')"
      ]
     },
     "execution_count": 13,
     "metadata": {},
     "output_type": "execute_result"
    }
   ],
   "source": [
    "#fitting the model\n",
    "model.fit(inputs,output)"
   ]
  },
  {
   "cell_type": "code",
   "execution_count": 14,
   "metadata": {},
   "outputs": [
    {
     "data": {
      "text/plain": [
       "100.0"
      ]
     },
     "execution_count": 14,
     "metadata": {},
     "output_type": "execute_result"
    }
   ],
   "source": [
    "# checking the accuracy\n",
    "model.score(inputs,output)*100"
   ]
  },
  {
   "cell_type": "code",
   "execution_count": 15,
   "metadata": {
    "collapsed": true
   },
   "outputs": [],
   "source": [
    "# importing the lib for exporting tree visualization code\n",
    "from sklearn.tree import export_graphviz"
   ]
  },
  {
   "cell_type": "code",
   "execution_count": 16,
   "metadata": {
    "collapsed": true
   },
   "outputs": [],
   "source": [
    "# exporting the tree graph and then visualizing in webgraphviz.com\n",
    "export_graphviz(model,\"tree.dot\")"
   ]
  },
  {
   "cell_type": "code",
   "execution_count": 17,
   "metadata": {
    "collapsed": true
   },
   "outputs": [],
   "source": [
    "# building new model with a max_depth specification\n",
    "modelFit = DecisionTreeClassifier(max_depth=5, random_state=42)"
   ]
  },
  {
   "cell_type": "code",
   "execution_count": 18,
   "metadata": {
    "collapsed": true
   },
   "outputs": [],
   "source": [
    "train, test = train_test_split(data,test_size=0.3)"
   ]
  },
  {
   "cell_type": "code",
   "execution_count": 19,
   "metadata": {},
   "outputs": [
    {
     "data": {
      "text/plain": [
       "36"
      ]
     },
     "execution_count": 19,
     "metadata": {},
     "output_type": "execute_result"
    }
   ],
   "source": [
    "len(test)"
   ]
  },
  {
   "cell_type": "code",
   "execution_count": 20,
   "metadata": {
    "collapsed": true
   },
   "outputs": [],
   "source": [
    "train, test = train_test_split(data,train_size=0.7)"
   ]
  },
  {
   "cell_type": "code",
   "execution_count": 21,
   "metadata": {},
   "outputs": [
    {
     "data": {
      "text/plain": [
       "84"
      ]
     },
     "execution_count": 21,
     "metadata": {},
     "output_type": "execute_result"
    }
   ],
   "source": [
    "len(train)"
   ]
  },
  {
   "cell_type": "code",
   "execution_count": 22,
   "metadata": {
    "collapsed": true
   },
   "outputs": [],
   "source": [
    "model_A = DecisionTreeClassifier(max_depth=5, random_state=42)"
   ]
  },
  {
   "cell_type": "code",
   "execution_count": 23,
   "metadata": {
    "collapsed": true
   },
   "outputs": [],
   "source": [
    "inputs_train,inputs_test,output_train,output_test = train_test_split(inputs,output,train_size=0.75)"
   ]
  },
  {
   "cell_type": "code",
   "execution_count": 24,
   "metadata": {},
   "outputs": [
    {
     "data": {
      "text/plain": [
       "93.333333333333329"
      ]
     },
     "execution_count": 24,
     "metadata": {},
     "output_type": "execute_result"
    }
   ],
   "source": [
    "model_A.fit(inputs_train,output_train)\n",
    "model_A.score(inputs_test,output_test)*100"
   ]
  },
  {
   "cell_type": "code",
   "execution_count": 25,
   "metadata": {
    "collapsed": true
   },
   "outputs": [],
   "source": [
    "export_graphviz(model_A,\"tree_.dot\")"
   ]
  },
  {
   "cell_type": "code",
   "execution_count": 26,
   "metadata": {},
   "outputs": [
    {
     "data": {
      "text/html": [
       "<div>\n",
       "<style>\n",
       "    .dataframe thead tr:only-child th {\n",
       "        text-align: right;\n",
       "    }\n",
       "\n",
       "    .dataframe thead th {\n",
       "        text-align: left;\n",
       "    }\n",
       "\n",
       "    .dataframe tbody tr th {\n",
       "        vertical-align: top;\n",
       "    }\n",
       "</style>\n",
       "<table border=\"1\" class=\"dataframe\">\n",
       "  <thead>\n",
       "    <tr style=\"text-align: right;\">\n",
       "      <th></th>\n",
       "      <th>0</th>\n",
       "    </tr>\n",
       "  </thead>\n",
       "  <tbody>\n",
       "    <tr>\n",
       "      <th>Relationship</th>\n",
       "      <td>0.098511</td>\n",
       "    </tr>\n",
       "    <tr>\n",
       "      <th>Communication</th>\n",
       "      <td>0.021567</td>\n",
       "    </tr>\n",
       "    <tr>\n",
       "      <th>Resolved conflics</th>\n",
       "      <td>0.011503</td>\n",
       "    </tr>\n",
       "    <tr>\n",
       "      <th>Favoritism</th>\n",
       "      <td>0.000000</td>\n",
       "    </tr>\n",
       "    <tr>\n",
       "      <th>Fair shared info</th>\n",
       "      <td>0.000000</td>\n",
       "    </tr>\n",
       "    <tr>\n",
       "      <th>Matching skills</th>\n",
       "      <td>0.075485</td>\n",
       "    </tr>\n",
       "    <tr>\n",
       "      <th>New job</th>\n",
       "      <td>0.043134</td>\n",
       "    </tr>\n",
       "    <tr>\n",
       "      <th>Good treatment</th>\n",
       "      <td>0.534621</td>\n",
       "    </tr>\n",
       "    <tr>\n",
       "      <th>Excellent customer service.</th>\n",
       "      <td>0.092089</td>\n",
       "    </tr>\n",
       "    <tr>\n",
       "      <th>Salary</th>\n",
       "      <td>0.047092</td>\n",
       "    </tr>\n",
       "    <tr>\n",
       "      <th>Work-life balance</th>\n",
       "      <td>0.075999</td>\n",
       "    </tr>\n",
       "  </tbody>\n",
       "</table>\n",
       "</div>"
      ],
      "text/plain": [
       "                                    0\n",
       " Relationship                0.098511\n",
       "Communication                0.021567\n",
       "Resolved conflics            0.011503\n",
       "Favoritism                   0.000000\n",
       "Fair shared info             0.000000\n",
       "Matching skills              0.075485\n",
       "New job                      0.043134\n",
       "Good treatment               0.534621\n",
       "Excellent customer service.  0.092089\n",
       "Salary                       0.047092\n",
       "Work-life balance            0.075999"
      ]
     },
     "execution_count": 26,
     "metadata": {},
     "output_type": "execute_result"
    }
   ],
   "source": [
    "# building a dataframe with importances\n",
    "df = pd.DataFrame(index=list(data)[1:],data=model.feature_importances_)\n",
    "df"
   ]
  },
  {
   "cell_type": "code",
   "execution_count": 27,
   "metadata": {},
   "outputs": [
    {
     "data": {
      "text/html": [
       "<div>\n",
       "<style>\n",
       "    .dataframe thead tr:only-child th {\n",
       "        text-align: right;\n",
       "    }\n",
       "\n",
       "    .dataframe thead th {\n",
       "        text-align: left;\n",
       "    }\n",
       "\n",
       "    .dataframe tbody tr th {\n",
       "        vertical-align: top;\n",
       "    }\n",
       "</style>\n",
       "<table border=\"1\" class=\"dataframe\">\n",
       "  <thead>\n",
       "    <tr style=\"text-align: right;\">\n",
       "      <th></th>\n",
       "      <th>0</th>\n",
       "    </tr>\n",
       "  </thead>\n",
       "  <tbody>\n",
       "    <tr>\n",
       "      <th>Good treatment</th>\n",
       "      <td>0.534621</td>\n",
       "    </tr>\n",
       "    <tr>\n",
       "      <th>Relationship</th>\n",
       "      <td>0.098511</td>\n",
       "    </tr>\n",
       "    <tr>\n",
       "      <th>Excellent customer service.</th>\n",
       "      <td>0.092089</td>\n",
       "    </tr>\n",
       "    <tr>\n",
       "      <th>Work-life balance</th>\n",
       "      <td>0.075999</td>\n",
       "    </tr>\n",
       "    <tr>\n",
       "      <th>Matching skills</th>\n",
       "      <td>0.075485</td>\n",
       "    </tr>\n",
       "    <tr>\n",
       "      <th>Salary</th>\n",
       "      <td>0.047092</td>\n",
       "    </tr>\n",
       "    <tr>\n",
       "      <th>New job</th>\n",
       "      <td>0.043134</td>\n",
       "    </tr>\n",
       "    <tr>\n",
       "      <th>Communication</th>\n",
       "      <td>0.021567</td>\n",
       "    </tr>\n",
       "    <tr>\n",
       "      <th>Resolved conflics</th>\n",
       "      <td>0.011503</td>\n",
       "    </tr>\n",
       "    <tr>\n",
       "      <th>Favoritism</th>\n",
       "      <td>0.000000</td>\n",
       "    </tr>\n",
       "    <tr>\n",
       "      <th>Fair shared info</th>\n",
       "      <td>0.000000</td>\n",
       "    </tr>\n",
       "  </tbody>\n",
       "</table>\n",
       "</div>"
      ],
      "text/plain": [
       "                                    0\n",
       "Good treatment               0.534621\n",
       " Relationship                0.098511\n",
       "Excellent customer service.  0.092089\n",
       "Work-life balance            0.075999\n",
       "Matching skills              0.075485\n",
       "Salary                       0.047092\n",
       "New job                      0.043134\n",
       "Communication                0.021567\n",
       "Resolved conflics            0.011503\n",
       "Favoritism                   0.000000\n",
       "Fair shared info             0.000000"
      ]
     },
     "execution_count": 27,
     "metadata": {},
     "output_type": "execute_result"
    }
   ],
   "source": [
    "# sorting values by the only column we have in a descending order\n",
    "df.sort_values(by=0, ascending=False)"
   ]
  },
  {
   "cell_type": "code",
   "execution_count": null,
   "metadata": {
    "collapsed": true
   },
   "outputs": [],
   "source": []
  }
 ],
 "metadata": {
  "kernelspec": {
   "display_name": "Python 2",
   "language": "python",
   "name": "python2"
  },
  "language_info": {
   "codemirror_mode": {
    "name": "ipython",
    "version": 2
   },
   "file_extension": ".py",
   "mimetype": "text/x-python",
   "name": "python",
   "nbconvert_exporter": "python",
   "pygments_lexer": "ipython2",
   "version": "2.7.13"
  }
 },
 "nbformat": 4,
 "nbformat_minor": 2
}
